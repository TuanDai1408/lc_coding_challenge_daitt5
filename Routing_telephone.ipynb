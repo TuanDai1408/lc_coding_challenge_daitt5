{
 "cells": [
  {
   "cell_type": "code",
   "execution_count": 1,
   "metadata": {},
   "outputs": [],
   "source": [
    " # Add provider to the list of router\n",
    "def add_provider(routers, name, price_list):\n",
    "    routers.append({'name': name, 'price_list': price_list})\n",
    "\n"
   ]
  },
  {
   "cell_type": "code",
   "execution_count": 2,
   "metadata": {},
   "outputs": [],
   "source": [
    "# Calculate the price for a given phone number based on the provider price list\n",
    "def calculate_price(price_list, phone_number):\n",
    "    max_match = 0\n",
    "    max_price = 0.0\n",
    "    for prefix, price in price_list.items():\n",
    "       \n",
    "        if phone_number.startswith(prefix) and len(prefix) > max_match:\n",
    "            max_match = len(prefix)\n",
    "            max_price = price\n",
    "    return max_price\n",
    "\n",
    "\n"
   ]
  },
  {
   "cell_type": "code",
   "execution_count": 3,
   "metadata": {},
   "outputs": [],
   "source": [
    "# Find the cheapest provider for a given phone number among the list of routers\n",
    "def find_cheapest_provider(routers, phone_number):\n",
    "   \n",
    "    cheapest_provider = ''\n",
    "    cheapest_price = float('inf')\n",
    "\n",
    "    for provider in routers:\n",
    "   \n",
    "        price = calculate_price(provider['price_list'], phone_number)\n",
    "        if price < cheapest_price:\n",
    "            cheapest_price = price\n",
    "            cheapest_provider = provider['name']\n",
    "\n",
    "    return cheapest_provider, cheapest_price"
   ]
  },
  {
   "cell_type": "code",
   "execution_count": 4,
   "metadata": {},
   "outputs": [],
   "source": [
    "routers = []\n",
    "add_provider(routers, 'Operator A', {'1': 0.9, '268': 5.1, '46': 0.17, '4620': 0.0, '468': 0.15, '4631': 0.15, '4673': 0.9, '46732': 1.1})\n",
    "add_provider(routers, 'Operator B', {'1': 0.92, '44': 0.5, '46': 0.2, '468165': 0.1, '48': 1.2})\n",
    "\n",
    "\n",
    "phone_number = '468123456789'"
   ]
  },
  {
   "cell_type": "code",
   "execution_count": 6,
   "metadata": {},
   "outputs": [
    {
     "name": "stdout",
     "output_type": "stream",
     "text": [
      "The cheapest provider for phone number 468123456789 is Nhà cung cấp A with price $0.15/min.\n"
     ]
    }
   ],
   "source": [
    "cheapest_provider, cheapest_price = find_cheapest_provider(routers, phone_number)\n",
    "print(f'The cheapest provider for phone number {phone_number} is {cheapest_provider} with price ${cheapest_price}/min.')"
   ]
  },
  {
   "cell_type": "code",
   "execution_count": null,
   "metadata": {},
   "outputs": [],
   "source": []
  }
 ],
 "metadata": {
  "kernelspec": {
   "display_name": "Python 3",
   "language": "python",
   "name": "python3"
  },
  "language_info": {
   "codemirror_mode": {
    "name": "ipython",
    "version": 3
   },
   "file_extension": ".py",
   "mimetype": "text/x-python",
   "name": "python",
   "nbconvert_exporter": "python",
   "pygments_lexer": "ipython3",
   "version": "3.11.1"
  }
 },
 "nbformat": 4,
 "nbformat_minor": 2
}
